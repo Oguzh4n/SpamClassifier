{
 "cells": [
  {
   "cell_type": "code",
   "execution_count": 31,
   "metadata": {},
   "outputs": [
    {
     "data": {
      "text/html": [
       "<div>\n",
       "<style scoped>\n",
       "    .dataframe tbody tr th:only-of-type {\n",
       "        vertical-align: middle;\n",
       "    }\n",
       "\n",
       "    .dataframe tbody tr th {\n",
       "        vertical-align: top;\n",
       "    }\n",
       "\n",
       "    .dataframe thead th {\n",
       "        text-align: right;\n",
       "    }\n",
       "</style>\n",
       "<table border=\"1\" class=\"dataframe\">\n",
       "  <thead>\n",
       "    <tr style=\"text-align: right;\">\n",
       "      <th></th>\n",
       "      <th>id</th>\n",
       "      <th>subject</th>\n",
       "      <th>text</th>\n",
       "      <th>hamSpam</th>\n",
       "    </tr>\n",
       "  </thead>\n",
       "  <tbody>\n",
       "    <tr>\n",
       "      <th>0</th>\n",
       "      <td>1</td>\n",
       "      <td>christmas tree farm pictures</td>\n",
       "      <td>NaN</td>\n",
       "      <td>1</td>\n",
       "    </tr>\n",
       "    <tr>\n",
       "      <th>1</th>\n",
       "      <td>2</td>\n",
       "      <td>vastar resources   inc .</td>\n",
       "      <td>gary   production from the high island larger ...</td>\n",
       "      <td>1</td>\n",
       "    </tr>\n",
       "    <tr>\n",
       "      <th>2</th>\n",
       "      <td>3</td>\n",
       "      <td>calpine daily gas nomination</td>\n",
       "      <td>- calpine daily gas nomination 1 . doc</td>\n",
       "      <td>1</td>\n",
       "    </tr>\n",
       "    <tr>\n",
       "      <th>3</th>\n",
       "      <td>4</td>\n",
       "      <td>re : issue</td>\n",
       "      <td>fyi - see note below - already done . stella -...</td>\n",
       "      <td>1</td>\n",
       "    </tr>\n",
       "    <tr>\n",
       "      <th>4</th>\n",
       "      <td>5</td>\n",
       "      <td>meter 7268 nov allocation</td>\n",
       "      <td>fyi . - - - - - - - - - - - - - - - - - - - - ...</td>\n",
       "      <td>1</td>\n",
       "    </tr>\n",
       "  </tbody>\n",
       "</table>\n",
       "</div>"
      ],
      "text/plain": [
       "   id                        subject  \\\n",
       "0   1  christmas tree farm pictures    \n",
       "1   2      vastar resources   inc .    \n",
       "2   3  calpine daily gas nomination    \n",
       "3   4                    re : issue    \n",
       "4   5     meter 7268 nov allocation    \n",
       "\n",
       "                                                text  hamSpam  \n",
       "0                                                NaN        1  \n",
       "1  gary   production from the high island larger ...        1  \n",
       "2             - calpine daily gas nomination 1 . doc        1  \n",
       "3  fyi - see note below - already done . stella -...        1  \n",
       "4  fyi . - - - - - - - - - - - - - - - - - - - - ...        1  "
      ]
     },
     "execution_count": 31,
     "metadata": {},
     "output_type": "execute_result"
    }
   ],
   "source": [
    "#import data\n",
    "import pandas as pd\n",
    "emails = pd.read_csv(\"enron.csv\", sep=\";\")\n",
    "emails.head()"
   ]
  },
  {
   "cell_type": "code",
   "execution_count": 32,
   "metadata": {},
   "outputs": [
    {
     "data": {
      "text/html": [
       "<div>\n",
       "<style scoped>\n",
       "    .dataframe tbody tr th:only-of-type {\n",
       "        vertical-align: middle;\n",
       "    }\n",
       "\n",
       "    .dataframe tbody tr th {\n",
       "        vertical-align: top;\n",
       "    }\n",
       "\n",
       "    .dataframe thead th {\n",
       "        text-align: right;\n",
       "    }\n",
       "</style>\n",
       "<table border=\"1\" class=\"dataframe\">\n",
       "  <thead>\n",
       "    <tr style=\"text-align: right;\">\n",
       "      <th></th>\n",
       "      <th>text</th>\n",
       "      <th>hamSpam</th>\n",
       "    </tr>\n",
       "  </thead>\n",
       "  <tbody>\n",
       "    <tr>\n",
       "      <th>0</th>\n",
       "      <td>NaN</td>\n",
       "      <td>1</td>\n",
       "    </tr>\n",
       "    <tr>\n",
       "      <th>1</th>\n",
       "      <td>gary   production from the high island larger ...</td>\n",
       "      <td>1</td>\n",
       "    </tr>\n",
       "    <tr>\n",
       "      <th>2</th>\n",
       "      <td>- calpine daily gas nomination 1 . doc</td>\n",
       "      <td>1</td>\n",
       "    </tr>\n",
       "    <tr>\n",
       "      <th>3</th>\n",
       "      <td>fyi - see note below - already done . stella -...</td>\n",
       "      <td>1</td>\n",
       "    </tr>\n",
       "    <tr>\n",
       "      <th>4</th>\n",
       "      <td>fyi . - - - - - - - - - - - - - - - - - - - - ...</td>\n",
       "      <td>1</td>\n",
       "    </tr>\n",
       "  </tbody>\n",
       "</table>\n",
       "</div>"
      ],
      "text/plain": [
       "                                                text  hamSpam\n",
       "0                                                NaN        1\n",
       "1  gary   production from the high island larger ...        1\n",
       "2             - calpine daily gas nomination 1 . doc        1\n",
       "3  fyi - see note below - already done . stella -...        1\n",
       "4  fyi . - - - - - - - - - - - - - - - - - - - - ...        1"
      ]
     },
     "execution_count": 32,
     "metadata": {},
     "output_type": "execute_result"
    }
   ],
   "source": [
    "#drop unused data \n",
    "emails.drop(['id', 'subject'], axis=\"columns\", inplace=True)\n",
    "emails.head()"
   ]
  },
  {
   "cell_type": "code",
   "execution_count": 33,
   "metadata": {},
   "outputs": [
    {
     "data": {
      "text/html": [
       "<div>\n",
       "<style scoped>\n",
       "    .dataframe tbody tr th:only-of-type {\n",
       "        vertical-align: middle;\n",
       "    }\n",
       "\n",
       "    .dataframe tbody tr th {\n",
       "        vertical-align: top;\n",
       "    }\n",
       "\n",
       "    .dataframe thead tr th {\n",
       "        text-align: left;\n",
       "    }\n",
       "\n",
       "    .dataframe thead tr:last-of-type th {\n",
       "        text-align: right;\n",
       "    }\n",
       "</style>\n",
       "<table border=\"1\" class=\"dataframe\">\n",
       "  <thead>\n",
       "    <tr>\n",
       "      <th></th>\n",
       "      <th colspan=\"4\" halign=\"left\">text</th>\n",
       "    </tr>\n",
       "    <tr>\n",
       "      <th></th>\n",
       "      <th>count</th>\n",
       "      <th>unique</th>\n",
       "      <th>top</th>\n",
       "      <th>freq</th>\n",
       "    </tr>\n",
       "    <tr>\n",
       "      <th>hamSpam</th>\n",
       "      <th></th>\n",
       "      <th></th>\n",
       "      <th></th>\n",
       "      <th></th>\n",
       "    </tr>\n",
       "  </thead>\n",
       "  <tbody>\n",
       "    <tr>\n",
       "      <th>0</th>\n",
       "      <td>1412</td>\n",
       "      <td>1353</td>\n",
       "      <td>click here to be removed</td>\n",
       "      <td>19</td>\n",
       "    </tr>\n",
       "    <tr>\n",
       "      <th>1</th>\n",
       "      <td>3663</td>\n",
       "      <td>3415</td>\n",
       "      <td>&gt; ricky a . archer fuel supply 700 louisiana  ...</td>\n",
       "      <td>21</td>\n",
       "    </tr>\n",
       "  </tbody>\n",
       "</table>\n",
       "</div>"
      ],
      "text/plain": [
       "         text                                                               \n",
       "        count unique                                                top freq\n",
       "hamSpam                                                                     \n",
       "0        1412   1353                          click here to be removed    19\n",
       "1        3663   3415  > ricky a . archer fuel supply 700 louisiana  ...   21"
      ]
     },
     "execution_count": 33,
     "metadata": {},
     "output_type": "execute_result"
    }
   ],
   "source": [
    "#1412 spam and 3663 ham emails\n",
    "emails.groupby(\"hamSpam\").describe()"
   ]
  },
  {
   "cell_type": "code",
   "execution_count": 34,
   "metadata": {},
   "outputs": [],
   "source": [
    "#split data into training and test data\n",
    "from sklearn.model_selection import train_test_split\n",
    "X_train, X_test, y_train, y_test = train_test_split(emails.text, emails.hamSpam, test_size=0.1)"
   ]
  },
  {
   "cell_type": "code",
   "execution_count": 35,
   "metadata": {
    "scrolled": true
   },
   "outputs": [
    {
     "data": {
      "text/plain": [
       "array([[0, 0, 0, ..., 0, 0, 0],\n",
       "       [0, 0, 0, ..., 0, 0, 0],\n",
       "       [0, 0, 0, ..., 0, 0, 0]], dtype=int64)"
      ]
     },
     "execution_count": 35,
     "metadata": {},
     "output_type": "execute_result"
    }
   ],
   "source": [
    "#transform text into numeric values\n",
    "from sklearn.feature_extraction.text import CountVectorizer\n",
    "v = CountVectorizer()\n",
    "X_train_count = v.fit_transform(X_train.values.astype('str'))\n",
    "X_train_count.toarray()[:3]\n"
   ]
  },
  {
   "cell_type": "code",
   "execution_count": 37,
   "metadata": {},
   "outputs": [
    {
     "data": {
      "text/plain": [
       "MultinomialNB()"
      ]
     },
     "execution_count": 37,
     "metadata": {},
     "output_type": "execute_result"
    }
   ],
   "source": [
    "#create Multinomial Naive Bayes model, multinomial because we have discrete data (count of each word in text)\n",
    "from sklearn.naive_bayes import MultinomialNB\n",
    "model = MultinomialNB()\n",
    "model.fit(X_train_count, y_train)"
   ]
  },
  {
   "cell_type": "code",
   "execution_count": 38,
   "metadata": {
    "scrolled": true
   },
   "outputs": [
    {
     "data": {
      "text/plain": [
       "array([0, 1], dtype=int64)"
      ]
     },
     "execution_count": 38,
     "metadata": {},
     "output_type": "execute_result"
    }
   ],
   "source": [
    "#test with 2 random emails. first spam second ham\n",
    "email = [\n",
    "    'try cortizyte ! with our pharmaceutical grade all - natural weight - loss formula   you will : - lose pounds and inches like crazy - jump start your metabolism - boost your energy level - lose your appetite and feel satisfied - reduce cholesterol levels - eliminate cellulite and excess fat pockets - stimulate your body  s natural fat - burning ability most important :',\n",
    "    'gary   production from the high island larger block a - 1 # 2 commenced on saturday at 2 : 00 p . m . at about 6   500 gross . carlos expects between 9   500 and 10   000 gross for tomorrow . vastar owns 68 % of the gross production . george x 3 - 6992 - - - - - - - - - - - - - - - - - - - - - - forwarded by george weissman / hou / ect on 12 / 13 / 99 10 : 16'\n",
    "]\n",
    "emails_count = v.transform(email)\n",
    "model.predict(emails_count)\n",
    "\n"
   ]
  },
  {
   "cell_type": "code",
   "execution_count": 39,
   "metadata": {},
   "outputs": [
    {
     "data": {
      "text/plain": [
       "0.9768339768339769"
      ]
     },
     "execution_count": 39,
     "metadata": {},
     "output_type": "execute_result"
    }
   ],
   "source": [
    "#accuracy\n",
    "X_test_count = v.transform(X_test.values.astype('str'))\n",
    "model.score(X_test_count, y_test)"
   ]
  },
  {
   "cell_type": "code",
   "execution_count": 40,
   "metadata": {},
   "outputs": [],
   "source": [
    "def get_score(model, X_train, X_test, y_train, y_test):\n",
    "    v = CountVectorizer()\n",
    "    X_train_count = v.fit_transform(X_train.values.astype('str'))\n",
    "    X_test_count = v.transform(X_test.values.astype('str'))\n",
    "    model.fit(X_train_count, y_train)\n",
    "    return model.score(X_test_count, y_test)"
   ]
  },
  {
   "cell_type": "code",
   "execution_count": 41,
   "metadata": {},
   "outputs": [],
   "source": [
    "# K-Folds cross-validator\n",
    "from sklearn.model_selection import KFold\n",
    "kf = KFold(n_splits=10)"
   ]
  },
  {
   "cell_type": "code",
   "execution_count": 42,
   "metadata": {},
   "outputs": [],
   "source": [
    "#create 10 folds and their score\n",
    "scores = []\n",
    "for train_index, test_index in kf.split(emails.text):\n",
    "    X_train, X_test, y_train, y_test = emails.text[train_index], emails.text[test_index], \\\n",
    "                                        emails.hamSpam[train_index], emails.hamSpam[test_index]\n",
    "    scores.append(get_score(model, X_train, X_test, y_train, y_test))"
   ]
  },
  {
   "cell_type": "code",
   "execution_count": 43,
   "metadata": {},
   "outputs": [
    {
     "data": {
      "text/plain": [
       "[0.971042471042471,\n",
       " 0.9903474903474904,\n",
       " 0.9864603481624759,\n",
       " 0.9903288201160542,\n",
       " 0.9845261121856866,\n",
       " 0.9787234042553191,\n",
       " 0.9477756286266924,\n",
       " 0.9729206963249516,\n",
       " 0.9245647969052224,\n",
       " 0.90715667311412]"
      ]
     },
     "execution_count": 43,
     "metadata": {},
     "output_type": "execute_result"
    }
   ],
   "source": [
    "scores"
   ]
  },
  {
   "cell_type": "code",
   "execution_count": 46,
   "metadata": {},
   "outputs": [
    {
     "name": "stderr",
     "output_type": "stream",
     "text": [
      "C:\\Users\\O.Y\\anaconda3\\lib\\site-packages\\sklearn\\model_selection\\_validation.py:548: FitFailedWarning: Estimator fit failed. The score on this train-test partition for these parameters will be set to nan. Details: \n",
      "Traceback (most recent call last):\n",
      "  File \"C:\\Users\\O.Y\\anaconda3\\lib\\site-packages\\sklearn\\model_selection\\_validation.py\", line 531, in _fit_and_score\n",
      "    estimator.fit(X_train, y_train, **fit_params)\n",
      "  File \"C:\\Users\\O.Y\\anaconda3\\lib\\site-packages\\sklearn\\naive_bayes.py\", line 615, in fit\n",
      "    X, y = self._check_X_y(X, y)\n",
      "  File \"C:\\Users\\O.Y\\anaconda3\\lib\\site-packages\\sklearn\\naive_bayes.py\", line 480, in _check_X_y\n",
      "    return self._validate_data(X, y, accept_sparse='csr')\n",
      "  File \"C:\\Users\\O.Y\\anaconda3\\lib\\site-packages\\sklearn\\base.py\", line 432, in _validate_data\n",
      "    X, y = check_X_y(X, y, **check_params)\n",
      "  File \"C:\\Users\\O.Y\\anaconda3\\lib\\site-packages\\sklearn\\utils\\validation.py\", line 73, in inner_f\n",
      "    return f(**kwargs)\n",
      "  File \"C:\\Users\\O.Y\\anaconda3\\lib\\site-packages\\sklearn\\utils\\validation.py\", line 796, in check_X_y\n",
      "    X = check_array(X, accept_sparse=accept_sparse,\n",
      "  File \"C:\\Users\\O.Y\\anaconda3\\lib\\site-packages\\sklearn\\utils\\validation.py\", line 73, in inner_f\n",
      "    return f(**kwargs)\n",
      "  File \"C:\\Users\\O.Y\\anaconda3\\lib\\site-packages\\sklearn\\utils\\validation.py\", line 599, in check_array\n",
      "    array = np.asarray(array, order=order, dtype=dtype)\n",
      "  File \"C:\\Users\\O.Y\\AppData\\Roaming\\Python\\Python38\\site-packages\\numpy\\core\\_asarray.py\", line 85, in asarray\n",
      "    return array(a, dtype, copy=False, order=order)\n",
      "  File \"C:\\Users\\O.Y\\anaconda3\\lib\\site-packages\\pandas\\core\\series.py\", line 754, in __array__\n",
      "    return np.asarray(self.array, dtype)\n",
      "  File \"C:\\Users\\O.Y\\AppData\\Roaming\\Python\\Python38\\site-packages\\numpy\\core\\_asarray.py\", line 85, in asarray\n",
      "    return array(a, dtype, copy=False, order=order)\n",
      "  File \"C:\\Users\\O.Y\\anaconda3\\lib\\site-packages\\pandas\\core\\arrays\\numpy_.py\", line 184, in __array__\n",
      "    return np.asarray(self._ndarray, dtype=dtype)\n",
      "  File \"C:\\Users\\O.Y\\AppData\\Roaming\\Python\\Python38\\site-packages\\numpy\\core\\_asarray.py\", line 85, in asarray\n",
      "    return array(a, dtype, copy=False, order=order)\n",
      "ValueError: could not convert string to float: 'please share with your organizations . - - - - - - - - - - - - - - - - - - - - - - forwarded by brenda f herod / hou / ect on 05 / 02 / 2000 12 : 15 pm - - - - - - - - - - - - - - - - - - - - - - - - - - - enron north america corp . from : brenda f herod 05 / 02 / 2000 12 : 15 pm to : sally beck / hou / ect @ ect   kristin albrecht / hou / ect @ ect   sheila glover / hou / ect   d todd hall / hou / ect @ ect   peggy hedstrom / cal / ect @ ect   michael e moscoso / hou / ect @ ect   eugenio perez / hou / ect @ ect   scott pleus / hou / ect @ ect   brent a price / hou / ect @ ect   leslie reeves / hou / ect @ ect   stephen p schwarz / hou / ect @ ect   james scribner / corp / enron @ enron   mary solmonson / hou / ect @ ect   sheri thomas / hou / ect @ ect   scott mills / hou / ect @ ect   norma villarreal / hou / ect @ ect   hector mcloughlin / corp / enron @ enron   susan harrison / hou / ect @ ect   steve jackson / hou / ect @ ect cc : patti thompson / hou / ect @ ect   lisa shoemake / hou / ect @ ect   kelly templeton / corp / enron @ enron   lynn tippery / hou / ect @ ect   maria sandoval / hou / ect @ ect   irena d hogan / hou / ect @ ect   kimberly perkins / hou / ect @ ect   marvia jefferson / hou / ect @ ect   cecilia olvera / hou / ect @ ect   jennifer jordan / corp / enron @ enron   chantelle villanueva / hou / ect @ ect subject : organizational changes last week you all received a memo from brent price which described changes within gas operations   excluding texas . attached is an organizational chart for the texas region . we too continue to look for efficiencies to ensure we meet the demands of our customers . we currently support the texas trading region   bammel storage facility   houston pipeline   powder river gathering and bridgeline . i am pleased to announce that we will also combine risk management   deal validation and operational analysis under the management of steve venturatos who will serve as the business controller . dave baumbach will fill the lead position . ami chokshi will move from trading support to the new group   continuing in the role of the entex and tufco account manager . jody crook also will join the team . bryan hull will transition his knowledge over the next month   and will be moving to has second rotation   effective 6 / 5 / 00 . additionally   will kelly will transition the denver trading books to the texas team as he moves to the east region . transportation management under mary smith will not be integrated into the team as their day - to - day responsibilities and projects are not cohesively aligned with this group . please join me in welcoming the new team members as well as the team members who will continue in the group . mike eiben will step in the role previously managed by steve venturatos which includes global contracts and facilities   system enhancements and regulatory reporting . in addition   clem cernosek and jennifer pattison will be assuming new responsibilities in logistics and volume management   respectively . both clem and jennifer have been on the unify team   focused on pops . please wish these folks success in their new roles . all responsibility changes are effective 5 / 1 / 00 . please share this with your staffs .'\n",
      "\n",
      "  warnings.warn(\"Estimator fit failed. The score on this train-test\"\n",
      "C:\\Users\\O.Y\\anaconda3\\lib\\site-packages\\sklearn\\model_selection\\_validation.py:548: FitFailedWarning: Estimator fit failed. The score on this train-test partition for these parameters will be set to nan. Details: \n",
      "Traceback (most recent call last):\n",
      "  File \"C:\\Users\\O.Y\\anaconda3\\lib\\site-packages\\sklearn\\model_selection\\_validation.py\", line 531, in _fit_and_score\n",
      "    estimator.fit(X_train, y_train, **fit_params)\n",
      "  File \"C:\\Users\\O.Y\\anaconda3\\lib\\site-packages\\sklearn\\naive_bayes.py\", line 615, in fit\n",
      "    X, y = self._check_X_y(X, y)\n",
      "  File \"C:\\Users\\O.Y\\anaconda3\\lib\\site-packages\\sklearn\\naive_bayes.py\", line 480, in _check_X_y\n",
      "    return self._validate_data(X, y, accept_sparse='csr')\n",
      "  File \"C:\\Users\\O.Y\\anaconda3\\lib\\site-packages\\sklearn\\base.py\", line 432, in _validate_data\n",
      "    X, y = check_X_y(X, y, **check_params)\n",
      "  File \"C:\\Users\\O.Y\\anaconda3\\lib\\site-packages\\sklearn\\utils\\validation.py\", line 73, in inner_f\n",
      "    return f(**kwargs)\n",
      "  File \"C:\\Users\\O.Y\\anaconda3\\lib\\site-packages\\sklearn\\utils\\validation.py\", line 796, in check_X_y\n",
      "    X = check_array(X, accept_sparse=accept_sparse,\n",
      "  File \"C:\\Users\\O.Y\\anaconda3\\lib\\site-packages\\sklearn\\utils\\validation.py\", line 73, in inner_f\n",
      "    return f(**kwargs)\n",
      "  File \"C:\\Users\\O.Y\\anaconda3\\lib\\site-packages\\sklearn\\utils\\validation.py\", line 599, in check_array\n",
      "    array = np.asarray(array, order=order, dtype=dtype)\n",
      "  File \"C:\\Users\\O.Y\\AppData\\Roaming\\Python\\Python38\\site-packages\\numpy\\core\\_asarray.py\", line 85, in asarray\n",
      "    return array(a, dtype, copy=False, order=order)\n",
      "  File \"C:\\Users\\O.Y\\anaconda3\\lib\\site-packages\\pandas\\core\\series.py\", line 754, in __array__\n",
      "    return np.asarray(self.array, dtype)\n",
      "  File \"C:\\Users\\O.Y\\AppData\\Roaming\\Python\\Python38\\site-packages\\numpy\\core\\_asarray.py\", line 85, in asarray\n",
      "    return array(a, dtype, copy=False, order=order)\n",
      "  File \"C:\\Users\\O.Y\\anaconda3\\lib\\site-packages\\pandas\\core\\arrays\\numpy_.py\", line 184, in __array__\n",
      "    return np.asarray(self._ndarray, dtype=dtype)\n",
      "  File \"C:\\Users\\O.Y\\AppData\\Roaming\\Python\\Python38\\site-packages\\numpy\\core\\_asarray.py\", line 85, in asarray\n",
      "    return array(a, dtype, copy=False, order=order)\n",
      "ValueError: could not convert string to float: 'gary   production from the high island larger block a - 1 # 2 commenced on saturday at 2 : 00 p . m . at about 6   500 gross . carlos expects between 9   500 and 10   000 gross for tomorrow . vastar owns 68 % of the gross production . george x 3 - 6992 - - - - - - - - - - - - - - - - - - - - - - forwarded by george weissman / hou / ect on 12 / 13 / 99 10 : 16 am - - - - - - - - - - - - - - - - - - - - - - - - - - - daren j farmer 12 / 10 / 99 10 : 38 am to : carlos j rodriguez / hou / ect @ ect cc : george weissman / hou / ect @ ect   melissa graves / hou / ect @ ect subject : vastar resources   inc . carlos   please call linda and get everything set up . i  m going to estimate 4   500 coming up tomorrow   with a 2   000 increase each following day based on my conversations with bill fischer at bmar . d . - - - - - - - - - - - - - - - - - - - - - - forwarded by daren j farmer / hou / ect on 12 / 10 / 99 10 : 34 am - - - - - - - - - - - - - - - - - - - - - - - - - - - enron north america corp . from : george weissman 12 / 10 / 99 10 : 00 am to : daren j farmer / hou / ect @ ect cc : gary bryan / hou / ect @ ect   melissa graves / hou / ect @ ect subject : vastar resources   inc . darren   the attached appears to be a nomination from vastar resources   inc . for the high island larger block a - 1 # 2 ( previously   erroneously referred to as the # 1 well ) . vastar now expects the well to commence production sometime tomorrow . i told linda harris that we  d get her a telephone number in gas control so she can provide notification of the turn - on tomorrow . linda s numbers   for the record   are 281 . 584 . 3359 voice and 713 . 312 . 1689 fax . would you please see that someone contacts linda and advises her how to submit future nominations via e - mail   fax or voice ? thanks . george x 3 - 6992 - - - - - - - - - - - - - - - - - - - - - - forwarded by george weissman / hou / ect on 12 / 10 / 99 09 : 44 am - - - - - - - - - - - - - - - - - - - - - - - - - - -  linda harris  on 12 / 10 / 99 09 : 38 : 43 am to : george weissman / hou / ect @ ect cc : subject : hi a - 1 # 2 effective 12 - 11 - 99 | - - - - - - - - + - - - - - - - - - - + - - - - - - - - - - - | | | | | | mscf / d | min ftp | time | | | | | | - - - - - - - - + - - - - - - - - - - + - - - - - - - - - - - | | | | | | 4   500 | 9   925 | 24 hours | | | | | | - - - - - - - - + - - - - - - - - - - + - - - - - - - - - - - | | | | | | 6   000 | 9   908 | 24 hours | | | | | | - - - - - - - - + - - - - - - - - - - + - - - - - - - - - - - | | | | | | 8   000 | 9   878 | 24 hours | | | | | | - - - - - - - - + - - - - - - - - - - + - - - - - - - - - - - | | | | | | 10   000 | 9   840 | 24 hours | | | | | | - - - - - - - - + - - - - - - - - - - + - - - - - - - - - - - | | | | | | 12   000 | 9   793 | 24 hours | | | | | | - - - - - - - - + - - - - - - - - - - + - - - - - - - - - - - | | | | | | 14   000 | 9   738 | 24 hours | | | | | | - - - - - - - - + - - - - - - - - - - + - - - - - - - - - - - | | | | | | 16   000 | 9   674 | 24 hours | | | | | | - - - - - - - - + - - - - - - - - - - + - - - - - - - - - - - | | | | | | 18   000 | 9   602 | 24 hours | | | | | | - - - - - - - - + - - - - - - - - - - + - - - - - - - - - - - | | | | | | 20   000 | 9   521 | 24 hours | | | | | | - - - - - - - - + - - - - - - - - - - + - - - - - - - - - - - | | | | | | 22   000 | 9   431 | 24 hours | | | | | | - - - - - - - - + - - - - - - - - - - + - - - - - - - - - - - | | | | | | 24   000 | 9   332 | 24 hours | | | | | | - - - - - - - - + - - - - - - - - - - + - - - - - - - - - - - | | | | | | 26   000 | 9   224 | 24 hours | | | | | | - - - - - - - - + - - - - - - - - - - + - - - - - - - - - - - | | | | | | 28   000 | 9   108 | 24 hours | | | | | | - - - - - - - - + - - - - - - - - - - + - - - - - - - - - - - | | | | | | 30   000 | 8   982 | 24 hours | | | | | | - - - - - - - - + - - - - - - - - - - + - - - - - - - - - - - | | | | | | 32   000 | 8   847 | 24 hours | | | | | | - - - - - - - - + - - - - - - - - - - + - - - - - - - - - - - | | | | | | 34   000 | 8   703 | 24 hours | | | | | | - - - - - - - - + - - - - - - - - - - + - - - - - - - - - - - | | | | | | 36   000 | 8   549 | 24 hours | | | | | | - - - - - - - - + - - - - - - - - - - + - - - - - - - - - - - |'\n",
      "\n",
      "  warnings.warn(\"Estimator fit failed. The score on this train-test\"\n",
      "C:\\Users\\O.Y\\anaconda3\\lib\\site-packages\\sklearn\\model_selection\\_validation.py:548: FitFailedWarning: Estimator fit failed. The score on this train-test partition for these parameters will be set to nan. Details: \n",
      "Traceback (most recent call last):\n",
      "  File \"C:\\Users\\O.Y\\anaconda3\\lib\\site-packages\\sklearn\\model_selection\\_validation.py\", line 531, in _fit_and_score\n",
      "    estimator.fit(X_train, y_train, **fit_params)\n",
      "  File \"C:\\Users\\O.Y\\anaconda3\\lib\\site-packages\\sklearn\\naive_bayes.py\", line 615, in fit\n",
      "    X, y = self._check_X_y(X, y)\n",
      "  File \"C:\\Users\\O.Y\\anaconda3\\lib\\site-packages\\sklearn\\naive_bayes.py\", line 480, in _check_X_y\n",
      "    return self._validate_data(X, y, accept_sparse='csr')\n",
      "  File \"C:\\Users\\O.Y\\anaconda3\\lib\\site-packages\\sklearn\\base.py\", line 432, in _validate_data\n",
      "    X, y = check_X_y(X, y, **check_params)\n",
      "  File \"C:\\Users\\O.Y\\anaconda3\\lib\\site-packages\\sklearn\\utils\\validation.py\", line 73, in inner_f\n",
      "    return f(**kwargs)\n",
      "  File \"C:\\Users\\O.Y\\anaconda3\\lib\\site-packages\\sklearn\\utils\\validation.py\", line 796, in check_X_y\n",
      "    X = check_array(X, accept_sparse=accept_sparse,\n",
      "  File \"C:\\Users\\O.Y\\anaconda3\\lib\\site-packages\\sklearn\\utils\\validation.py\", line 73, in inner_f\n",
      "    return f(**kwargs)\n",
      "  File \"C:\\Users\\O.Y\\anaconda3\\lib\\site-packages\\sklearn\\utils\\validation.py\", line 599, in check_array\n",
      "    array = np.asarray(array, order=order, dtype=dtype)\n",
      "  File \"C:\\Users\\O.Y\\AppData\\Roaming\\Python\\Python38\\site-packages\\numpy\\core\\_asarray.py\", line 85, in asarray\n",
      "    return array(a, dtype, copy=False, order=order)\n",
      "  File \"C:\\Users\\O.Y\\anaconda3\\lib\\site-packages\\pandas\\core\\series.py\", line 754, in __array__\n",
      "    return np.asarray(self.array, dtype)\n",
      "  File \"C:\\Users\\O.Y\\AppData\\Roaming\\Python\\Python38\\site-packages\\numpy\\core\\_asarray.py\", line 85, in asarray\n",
      "    return array(a, dtype, copy=False, order=order)\n",
      "  File \"C:\\Users\\O.Y\\anaconda3\\lib\\site-packages\\pandas\\core\\arrays\\numpy_.py\", line 184, in __array__\n",
      "    return np.asarray(self._ndarray, dtype=dtype)\n",
      "  File \"C:\\Users\\O.Y\\AppData\\Roaming\\Python\\Python38\\site-packages\\numpy\\core\\_asarray.py\", line 85, in asarray\n",
      "    return array(a, dtype, copy=False, order=order)\n",
      "ValueError: could not convert string to float: 'gary   production from the high island larger block a - 1 # 2 commenced on saturday at 2 : 00 p . m . at about 6   500 gross . carlos expects between 9   500 and 10   000 gross for tomorrow . vastar owns 68 % of the gross production . george x 3 - 6992 - - - - - - - - - - - - - - - - - - - - - - forwarded by george weissman / hou / ect on 12 / 13 / 99 10 : 16 am - - - - - - - - - - - - - - - - - - - - - - - - - - - daren j farmer 12 / 10 / 99 10 : 38 am to : carlos j rodriguez / hou / ect @ ect cc : george weissman / hou / ect @ ect   melissa graves / hou / ect @ ect subject : vastar resources   inc . carlos   please call linda and get everything set up . i  m going to estimate 4   500 coming up tomorrow   with a 2   000 increase each following day based on my conversations with bill fischer at bmar . d . - - - - - - - - - - - - - - - - - - - - - - forwarded by daren j farmer / hou / ect on 12 / 10 / 99 10 : 34 am - - - - - - - - - - - - - - - - - - - - - - - - - - - enron north america corp . from : george weissman 12 / 10 / 99 10 : 00 am to : daren j farmer / hou / ect @ ect cc : gary bryan / hou / ect @ ect   melissa graves / hou / ect @ ect subject : vastar resources   inc . darren   the attached appears to be a nomination from vastar resources   inc . for the high island larger block a - 1 # 2 ( previously   erroneously referred to as the # 1 well ) . vastar now expects the well to commence production sometime tomorrow . i told linda harris that we  d get her a telephone number in gas control so she can provide notification of the turn - on tomorrow . linda s numbers   for the record   are 281 . 584 . 3359 voice and 713 . 312 . 1689 fax . would you please see that someone contacts linda and advises her how to submit future nominations via e - mail   fax or voice ? thanks . george x 3 - 6992 - - - - - - - - - - - - - - - - - - - - - - forwarded by george weissman / hou / ect on 12 / 10 / 99 09 : 44 am - - - - - - - - - - - - - - - - - - - - - - - - - - -  linda harris  on 12 / 10 / 99 09 : 38 : 43 am to : george weissman / hou / ect @ ect cc : subject : hi a - 1 # 2 effective 12 - 11 - 99 | - - - - - - - - + - - - - - - - - - - + - - - - - - - - - - - | | | | | | mscf / d | min ftp | time | | | | | | - - - - - - - - + - - - - - - - - - - + - - - - - - - - - - - | | | | | | 4   500 | 9   925 | 24 hours | | | | | | - - - - - - - - + - - - - - - - - - - + - - - - - - - - - - - | | | | | | 6   000 | 9   908 | 24 hours | | | | | | - - - - - - - - + - - - - - - - - - - + - - - - - - - - - - - | | | | | | 8   000 | 9   878 | 24 hours | | | | | | - - - - - - - - + - - - - - - - - - - + - - - - - - - - - - - | | | | | | 10   000 | 9   840 | 24 hours | | | | | | - - - - - - - - + - - - - - - - - - - + - - - - - - - - - - - | | | | | | 12   000 | 9   793 | 24 hours | | | | | | - - - - - - - - + - - - - - - - - - - + - - - - - - - - - - - | | | | | | 14   000 | 9   738 | 24 hours | | | | | | - - - - - - - - + - - - - - - - - - - + - - - - - - - - - - - | | | | | | 16   000 | 9   674 | 24 hours | | | | | | - - - - - - - - + - - - - - - - - - - + - - - - - - - - - - - | | | | | | 18   000 | 9   602 | 24 hours | | | | | | - - - - - - - - + - - - - - - - - - - + - - - - - - - - - - - | | | | | | 20   000 | 9   521 | 24 hours | | | | | | - - - - - - - - + - - - - - - - - - - + - - - - - - - - - - - | | | | | | 22   000 | 9   431 | 24 hours | | | | | | - - - - - - - - + - - - - - - - - - - + - - - - - - - - - - - | | | | | | 24   000 | 9   332 | 24 hours | | | | | | - - - - - - - - + - - - - - - - - - - + - - - - - - - - - - - | | | | | | 26   000 | 9   224 | 24 hours | | | | | | - - - - - - - - + - - - - - - - - - - + - - - - - - - - - - - | | | | | | 28   000 | 9   108 | 24 hours | | | | | | - - - - - - - - + - - - - - - - - - - + - - - - - - - - - - - | | | | | | 30   000 | 8   982 | 24 hours | | | | | | - - - - - - - - + - - - - - - - - - - + - - - - - - - - - - - | | | | | | 32   000 | 8   847 | 24 hours | | | | | | - - - - - - - - + - - - - - - - - - - + - - - - - - - - - - - | | | | | | 34   000 | 8   703 | 24 hours | | | | | | - - - - - - - - + - - - - - - - - - - + - - - - - - - - - - - | | | | | | 36   000 | 8   549 | 24 hours | | | | | | - - - - - - - - + - - - - - - - - - - + - - - - - - - - - - - |'\n",
      "\n",
      "  warnings.warn(\"Estimator fit failed. The score on this train-test\"\n",
      "C:\\Users\\O.Y\\anaconda3\\lib\\site-packages\\sklearn\\model_selection\\_validation.py:548: FitFailedWarning: Estimator fit failed. The score on this train-test partition for these parameters will be set to nan. Details: \n",
      "Traceback (most recent call last):\n",
      "  File \"C:\\Users\\O.Y\\anaconda3\\lib\\site-packages\\sklearn\\model_selection\\_validation.py\", line 531, in _fit_and_score\n",
      "    estimator.fit(X_train, y_train, **fit_params)\n",
      "  File \"C:\\Users\\O.Y\\anaconda3\\lib\\site-packages\\sklearn\\naive_bayes.py\", line 615, in fit\n",
      "    X, y = self._check_X_y(X, y)\n",
      "  File \"C:\\Users\\O.Y\\anaconda3\\lib\\site-packages\\sklearn\\naive_bayes.py\", line 480, in _check_X_y\n",
      "    return self._validate_data(X, y, accept_sparse='csr')\n",
      "  File \"C:\\Users\\O.Y\\anaconda3\\lib\\site-packages\\sklearn\\base.py\", line 432, in _validate_data\n",
      "    X, y = check_X_y(X, y, **check_params)\n",
      "  File \"C:\\Users\\O.Y\\anaconda3\\lib\\site-packages\\sklearn\\utils\\validation.py\", line 73, in inner_f\n",
      "    return f(**kwargs)\n",
      "  File \"C:\\Users\\O.Y\\anaconda3\\lib\\site-packages\\sklearn\\utils\\validation.py\", line 796, in check_X_y\n",
      "    X = check_array(X, accept_sparse=accept_sparse,\n",
      "  File \"C:\\Users\\O.Y\\anaconda3\\lib\\site-packages\\sklearn\\utils\\validation.py\", line 73, in inner_f\n",
      "    return f(**kwargs)\n",
      "  File \"C:\\Users\\O.Y\\anaconda3\\lib\\site-packages\\sklearn\\utils\\validation.py\", line 599, in check_array\n",
      "    array = np.asarray(array, order=order, dtype=dtype)\n",
      "  File \"C:\\Users\\O.Y\\AppData\\Roaming\\Python\\Python38\\site-packages\\numpy\\core\\_asarray.py\", line 85, in asarray\n",
      "    return array(a, dtype, copy=False, order=order)\n",
      "  File \"C:\\Users\\O.Y\\anaconda3\\lib\\site-packages\\pandas\\core\\series.py\", line 754, in __array__\n",
      "    return np.asarray(self.array, dtype)\n",
      "  File \"C:\\Users\\O.Y\\AppData\\Roaming\\Python\\Python38\\site-packages\\numpy\\core\\_asarray.py\", line 85, in asarray\n",
      "    return array(a, dtype, copy=False, order=order)\n",
      "  File \"C:\\Users\\O.Y\\anaconda3\\lib\\site-packages\\pandas\\core\\arrays\\numpy_.py\", line 184, in __array__\n",
      "    return np.asarray(self._ndarray, dtype=dtype)\n",
      "  File \"C:\\Users\\O.Y\\AppData\\Roaming\\Python\\Python38\\site-packages\\numpy\\core\\_asarray.py\", line 85, in asarray\n",
      "    return array(a, dtype, copy=False, order=order)\n",
      "ValueError: could not convert string to float: 'gary   production from the high island larger block a - 1 # 2 commenced on saturday at 2 : 00 p . m . at about 6   500 gross . carlos expects between 9   500 and 10   000 gross for tomorrow . vastar owns 68 % of the gross production . george x 3 - 6992 - - - - - - - - - - - - - - - - - - - - - - forwarded by george weissman / hou / ect on 12 / 13 / 99 10 : 16 am - - - - - - - - - - - - - - - - - - - - - - - - - - - daren j farmer 12 / 10 / 99 10 : 38 am to : carlos j rodriguez / hou / ect @ ect cc : george weissman / hou / ect @ ect   melissa graves / hou / ect @ ect subject : vastar resources   inc . carlos   please call linda and get everything set up . i  m going to estimate 4   500 coming up tomorrow   with a 2   000 increase each following day based on my conversations with bill fischer at bmar . d . - - - - - - - - - - - - - - - - - - - - - - forwarded by daren j farmer / hou / ect on 12 / 10 / 99 10 : 34 am - - - - - - - - - - - - - - - - - - - - - - - - - - - enron north america corp . from : george weissman 12 / 10 / 99 10 : 00 am to : daren j farmer / hou / ect @ ect cc : gary bryan / hou / ect @ ect   melissa graves / hou / ect @ ect subject : vastar resources   inc . darren   the attached appears to be a nomination from vastar resources   inc . for the high island larger block a - 1 # 2 ( previously   erroneously referred to as the # 1 well ) . vastar now expects the well to commence production sometime tomorrow . i told linda harris that we  d get her a telephone number in gas control so she can provide notification of the turn - on tomorrow . linda s numbers   for the record   are 281 . 584 . 3359 voice and 713 . 312 . 1689 fax . would you please see that someone contacts linda and advises her how to submit future nominations via e - mail   fax or voice ? thanks . george x 3 - 6992 - - - - - - - - - - - - - - - - - - - - - - forwarded by george weissman / hou / ect on 12 / 10 / 99 09 : 44 am - - - - - - - - - - - - - - - - - - - - - - - - - - -  linda harris  on 12 / 10 / 99 09 : 38 : 43 am to : george weissman / hou / ect @ ect cc : subject : hi a - 1 # 2 effective 12 - 11 - 99 | - - - - - - - - + - - - - - - - - - - + - - - - - - - - - - - | | | | | | mscf / d | min ftp | time | | | | | | - - - - - - - - + - - - - - - - - - - + - - - - - - - - - - - | | | | | | 4   500 | 9   925 | 24 hours | | | | | | - - - - - - - - + - - - - - - - - - - + - - - - - - - - - - - | | | | | | 6   000 | 9   908 | 24 hours | | | | | | - - - - - - - - + - - - - - - - - - - + - - - - - - - - - - - | | | | | | 8   000 | 9   878 | 24 hours | | | | | | - - - - - - - - + - - - - - - - - - - + - - - - - - - - - - - | | | | | | 10   000 | 9   840 | 24 hours | | | | | | - - - - - - - - + - - - - - - - - - - + - - - - - - - - - - - | | | | | | 12   000 | 9   793 | 24 hours | | | | | | - - - - - - - - + - - - - - - - - - - + - - - - - - - - - - - | | | | | | 14   000 | 9   738 | 24 hours | | | | | | - - - - - - - - + - - - - - - - - - - + - - - - - - - - - - - | | | | | | 16   000 | 9   674 | 24 hours | | | | | | - - - - - - - - + - - - - - - - - - - + - - - - - - - - - - - | | | | | | 18   000 | 9   602 | 24 hours | | | | | | - - - - - - - - + - - - - - - - - - - + - - - - - - - - - - - | | | | | | 20   000 | 9   521 | 24 hours | | | | | | - - - - - - - - + - - - - - - - - - - + - - - - - - - - - - - | | | | | | 22   000 | 9   431 | 24 hours | | | | | | - - - - - - - - + - - - - - - - - - - + - - - - - - - - - - - | | | | | | 24   000 | 9   332 | 24 hours | | | | | | - - - - - - - - + - - - - - - - - - - + - - - - - - - - - - - | | | | | | 26   000 | 9   224 | 24 hours | | | | | | - - - - - - - - + - - - - - - - - - - + - - - - - - - - - - - | | | | | | 28   000 | 9   108 | 24 hours | | | | | | - - - - - - - - + - - - - - - - - - - + - - - - - - - - - - - | | | | | | 30   000 | 8   982 | 24 hours | | | | | | - - - - - - - - + - - - - - - - - - - + - - - - - - - - - - - | | | | | | 32   000 | 8   847 | 24 hours | | | | | | - - - - - - - - + - - - - - - - - - - + - - - - - - - - - - - | | | | | | 34   000 | 8   703 | 24 hours | | | | | | - - - - - - - - + - - - - - - - - - - + - - - - - - - - - - - | | | | | | 36   000 | 8   549 | 24 hours | | | | | | - - - - - - - - + - - - - - - - - - - + - - - - - - - - - - - |'\n",
      "\n",
      "  warnings.warn(\"Estimator fit failed. The score on this train-test\"\n",
      "C:\\Users\\O.Y\\anaconda3\\lib\\site-packages\\sklearn\\model_selection\\_validation.py:548: FitFailedWarning: Estimator fit failed. The score on this train-test partition for these parameters will be set to nan. Details: \n",
      "Traceback (most recent call last):\n",
      "  File \"C:\\Users\\O.Y\\anaconda3\\lib\\site-packages\\sklearn\\model_selection\\_validation.py\", line 531, in _fit_and_score\n",
      "    estimator.fit(X_train, y_train, **fit_params)\n",
      "  File \"C:\\Users\\O.Y\\anaconda3\\lib\\site-packages\\sklearn\\naive_bayes.py\", line 615, in fit\n",
      "    X, y = self._check_X_y(X, y)\n",
      "  File \"C:\\Users\\O.Y\\anaconda3\\lib\\site-packages\\sklearn\\naive_bayes.py\", line 480, in _check_X_y\n",
      "    return self._validate_data(X, y, accept_sparse='csr')\n",
      "  File \"C:\\Users\\O.Y\\anaconda3\\lib\\site-packages\\sklearn\\base.py\", line 432, in _validate_data\n",
      "    X, y = check_X_y(X, y, **check_params)\n",
      "  File \"C:\\Users\\O.Y\\anaconda3\\lib\\site-packages\\sklearn\\utils\\validation.py\", line 73, in inner_f\n",
      "    return f(**kwargs)\n",
      "  File \"C:\\Users\\O.Y\\anaconda3\\lib\\site-packages\\sklearn\\utils\\validation.py\", line 796, in check_X_y\n",
      "    X = check_array(X, accept_sparse=accept_sparse,\n",
      "  File \"C:\\Users\\O.Y\\anaconda3\\lib\\site-packages\\sklearn\\utils\\validation.py\", line 73, in inner_f\n",
      "    return f(**kwargs)\n",
      "  File \"C:\\Users\\O.Y\\anaconda3\\lib\\site-packages\\sklearn\\utils\\validation.py\", line 599, in check_array\n",
      "    array = np.asarray(array, order=order, dtype=dtype)\n",
      "  File \"C:\\Users\\O.Y\\AppData\\Roaming\\Python\\Python38\\site-packages\\numpy\\core\\_asarray.py\", line 85, in asarray\n",
      "    return array(a, dtype, copy=False, order=order)\n",
      "  File \"C:\\Users\\O.Y\\anaconda3\\lib\\site-packages\\pandas\\core\\series.py\", line 754, in __array__\n",
      "    return np.asarray(self.array, dtype)\n",
      "  File \"C:\\Users\\O.Y\\AppData\\Roaming\\Python\\Python38\\site-packages\\numpy\\core\\_asarray.py\", line 85, in asarray\n",
      "    return array(a, dtype, copy=False, order=order)\n",
      "  File \"C:\\Users\\O.Y\\anaconda3\\lib\\site-packages\\pandas\\core\\arrays\\numpy_.py\", line 184, in __array__\n",
      "    return np.asarray(self._ndarray, dtype=dtype)\n",
      "  File \"C:\\Users\\O.Y\\AppData\\Roaming\\Python\\Python38\\site-packages\\numpy\\core\\_asarray.py\", line 85, in asarray\n",
      "    return array(a, dtype, copy=False, order=order)\n",
      "ValueError: could not convert string to float: 'gary   production from the high island larger block a - 1 # 2 commenced on saturday at 2 : 00 p . m . at about 6   500 gross . carlos expects between 9   500 and 10   000 gross for tomorrow . vastar owns 68 % of the gross production . george x 3 - 6992 - - - - - - - - - - - - - - - - - - - - - - forwarded by george weissman / hou / ect on 12 / 13 / 99 10 : 16 am - - - - - - - - - - - - - - - - - - - - - - - - - - - daren j farmer 12 / 10 / 99 10 : 38 am to : carlos j rodriguez / hou / ect @ ect cc : george weissman / hou / ect @ ect   melissa graves / hou / ect @ ect subject : vastar resources   inc . carlos   please call linda and get everything set up . i  m going to estimate 4   500 coming up tomorrow   with a 2   000 increase each following day based on my conversations with bill fischer at bmar . d . - - - - - - - - - - - - - - - - - - - - - - forwarded by daren j farmer / hou / ect on 12 / 10 / 99 10 : 34 am - - - - - - - - - - - - - - - - - - - - - - - - - - - enron north america corp . from : george weissman 12 / 10 / 99 10 : 00 am to : daren j farmer / hou / ect @ ect cc : gary bryan / hou / ect @ ect   melissa graves / hou / ect @ ect subject : vastar resources   inc . darren   the attached appears to be a nomination from vastar resources   inc . for the high island larger block a - 1 # 2 ( previously   erroneously referred to as the # 1 well ) . vastar now expects the well to commence production sometime tomorrow . i told linda harris that we  d get her a telephone number in gas control so she can provide notification of the turn - on tomorrow . linda s numbers   for the record   are 281 . 584 . 3359 voice and 713 . 312 . 1689 fax . would you please see that someone contacts linda and advises her how to submit future nominations via e - mail   fax or voice ? thanks . george x 3 - 6992 - - - - - - - - - - - - - - - - - - - - - - forwarded by george weissman / hou / ect on 12 / 10 / 99 09 : 44 am - - - - - - - - - - - - - - - - - - - - - - - - - - -  linda harris  on 12 / 10 / 99 09 : 38 : 43 am to : george weissman / hou / ect @ ect cc : subject : hi a - 1 # 2 effective 12 - 11 - 99 | - - - - - - - - + - - - - - - - - - - + - - - - - - - - - - - | | | | | | mscf / d | min ftp | time | | | | | | - - - - - - - - + - - - - - - - - - - + - - - - - - - - - - - | | | | | | 4   500 | 9   925 | 24 hours | | | | | | - - - - - - - - + - - - - - - - - - - + - - - - - - - - - - - | | | | | | 6   000 | 9   908 | 24 hours | | | | | | - - - - - - - - + - - - - - - - - - - + - - - - - - - - - - - | | | | | | 8   000 | 9   878 | 24 hours | | | | | | - - - - - - - - + - - - - - - - - - - + - - - - - - - - - - - | | | | | | 10   000 | 9   840 | 24 hours | | | | | | - - - - - - - - + - - - - - - - - - - + - - - - - - - - - - - | | | | | | 12   000 | 9   793 | 24 hours | | | | | | - - - - - - - - + - - - - - - - - - - + - - - - - - - - - - - | | | | | | 14   000 | 9   738 | 24 hours | | | | | | - - - - - - - - + - - - - - - - - - - + - - - - - - - - - - - | | | | | | 16   000 | 9   674 | 24 hours | | | | | | - - - - - - - - + - - - - - - - - - - + - - - - - - - - - - - | | | | | | 18   000 | 9   602 | 24 hours | | | | | | - - - - - - - - + - - - - - - - - - - + - - - - - - - - - - - | | | | | | 20   000 | 9   521 | 24 hours | | | | | | - - - - - - - - + - - - - - - - - - - + - - - - - - - - - - - | | | | | | 22   000 | 9   431 | 24 hours | | | | | | - - - - - - - - + - - - - - - - - - - + - - - - - - - - - - - | | | | | | 24   000 | 9   332 | 24 hours | | | | | | - - - - - - - - + - - - - - - - - - - + - - - - - - - - - - - | | | | | | 26   000 | 9   224 | 24 hours | | | | | | - - - - - - - - + - - - - - - - - - - + - - - - - - - - - - - | | | | | | 28   000 | 9   108 | 24 hours | | | | | | - - - - - - - - + - - - - - - - - - - + - - - - - - - - - - - | | | | | | 30   000 | 8   982 | 24 hours | | | | | | - - - - - - - - + - - - - - - - - - - + - - - - - - - - - - - | | | | | | 32   000 | 8   847 | 24 hours | | | | | | - - - - - - - - + - - - - - - - - - - + - - - - - - - - - - - | | | | | | 34   000 | 8   703 | 24 hours | | | | | | - - - - - - - - + - - - - - - - - - - + - - - - - - - - - - - | | | | | | 36   000 | 8   549 | 24 hours | | | | | | - - - - - - - - + - - - - - - - - - - + - - - - - - - - - - - |'\n",
      "\n",
      "  warnings.warn(\"Estimator fit failed. The score on this train-test\"\n"
     ]
    },
    {
     "data": {
      "text/plain": [
       "array([nan, nan, nan, nan, nan])"
      ]
     },
     "execution_count": 46,
     "metadata": {},
     "output_type": "execute_result"
    }
   ],
   "source": [
    "#does same as the for loop above (doesnt work rn)\n",
    "#from sklearn.model_selection import cross_val_score\n",
    "#cross_val_score(model, emails.text, emails.hamSpam)"
   ]
  },
  {
   "cell_type": "code",
   "execution_count": null,
   "metadata": {},
   "outputs": [],
   "source": []
  }
 ],
 "metadata": {
  "kernelspec": {
   "display_name": "Python 3",
   "language": "python",
   "name": "python3"
  },
  "language_info": {
   "codemirror_mode": {
    "name": "ipython",
    "version": 3
   },
   "file_extension": ".py",
   "mimetype": "text/x-python",
   "name": "python",
   "nbconvert_exporter": "python",
   "pygments_lexer": "ipython3",
   "version": "3.8.3"
  }
 },
 "nbformat": 4,
 "nbformat_minor": 4
}

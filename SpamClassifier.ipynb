{
 "cells": [
  {
   "cell_type": "code",
   "execution_count": 247,
   "metadata": {},
   "outputs": [
    {
     "data": {
      "text/html": [
       "<div>\n",
       "<style scoped>\n",
       "    .dataframe tbody tr th:only-of-type {\n",
       "        vertical-align: middle;\n",
       "    }\n",
       "\n",
       "    .dataframe tbody tr th {\n",
       "        vertical-align: top;\n",
       "    }\n",
       "\n",
       "    .dataframe thead th {\n",
       "        text-align: right;\n",
       "    }\n",
       "</style>\n",
       "<table border=\"1\" class=\"dataframe\">\n",
       "  <thead>\n",
       "    <tr style=\"text-align: right;\">\n",
       "      <th></th>\n",
       "      <th>id</th>\n",
       "      <th>subject</th>\n",
       "      <th>text</th>\n",
       "      <th>hamSpam</th>\n",
       "    </tr>\n",
       "  </thead>\n",
       "  <tbody>\n",
       "    <tr>\n",
       "      <th>0</th>\n",
       "      <td>1</td>\n",
       "      <td>christmas tree farm pictures</td>\n",
       "      <td>NaN</td>\n",
       "      <td>1</td>\n",
       "    </tr>\n",
       "    <tr>\n",
       "      <th>1</th>\n",
       "      <td>2</td>\n",
       "      <td>vastar resources   inc .</td>\n",
       "      <td>gary   production from the high island larger ...</td>\n",
       "      <td>1</td>\n",
       "    </tr>\n",
       "    <tr>\n",
       "      <th>2</th>\n",
       "      <td>3</td>\n",
       "      <td>calpine daily gas nomination</td>\n",
       "      <td>- calpine daily gas nomination 1 . doc</td>\n",
       "      <td>1</td>\n",
       "    </tr>\n",
       "    <tr>\n",
       "      <th>3</th>\n",
       "      <td>4</td>\n",
       "      <td>re : issue</td>\n",
       "      <td>fyi - see note below - already done . stella -...</td>\n",
       "      <td>1</td>\n",
       "    </tr>\n",
       "    <tr>\n",
       "      <th>4</th>\n",
       "      <td>5</td>\n",
       "      <td>meter 7268 nov allocation</td>\n",
       "      <td>fyi . - - - - - - - - - - - - - - - - - - - - ...</td>\n",
       "      <td>1</td>\n",
       "    </tr>\n",
       "  </tbody>\n",
       "</table>\n",
       "</div>"
      ],
      "text/plain": [
       "   id                        subject  \\\n",
       "0   1  christmas tree farm pictures    \n",
       "1   2      vastar resources   inc .    \n",
       "2   3  calpine daily gas nomination    \n",
       "3   4                    re : issue    \n",
       "4   5     meter 7268 nov allocation    \n",
       "\n",
       "                                                text  hamSpam  \n",
       "0                                                NaN        1  \n",
       "1  gary   production from the high island larger ...        1  \n",
       "2             - calpine daily gas nomination 1 . doc        1  \n",
       "3  fyi - see note below - already done . stella -...        1  \n",
       "4  fyi . - - - - - - - - - - - - - - - - - - - - ...        1  "
      ]
     },
     "execution_count": 247,
     "metadata": {},
     "output_type": "execute_result"
    }
   ],
   "source": [
    "#import data\n",
    "import pandas as pd\n",
    "emails = pd.read_csv(\"enron.csv\", sep=\";\")\n",
    "emails.head()"
   ]
  },
  {
   "cell_type": "code",
   "execution_count": 248,
   "metadata": {},
   "outputs": [
    {
     "data": {
      "text/html": [
       "<div>\n",
       "<style scoped>\n",
       "    .dataframe tbody tr th:only-of-type {\n",
       "        vertical-align: middle;\n",
       "    }\n",
       "\n",
       "    .dataframe tbody tr th {\n",
       "        vertical-align: top;\n",
       "    }\n",
       "\n",
       "    .dataframe thead th {\n",
       "        text-align: right;\n",
       "    }\n",
       "</style>\n",
       "<table border=\"1\" class=\"dataframe\">\n",
       "  <thead>\n",
       "    <tr style=\"text-align: right;\">\n",
       "      <th></th>\n",
       "      <th>text</th>\n",
       "      <th>hamSpam</th>\n",
       "    </tr>\n",
       "  </thead>\n",
       "  <tbody>\n",
       "    <tr>\n",
       "      <th>0</th>\n",
       "      <td>NaN</td>\n",
       "      <td>1</td>\n",
       "    </tr>\n",
       "    <tr>\n",
       "      <th>1</th>\n",
       "      <td>gary   production from the high island larger ...</td>\n",
       "      <td>1</td>\n",
       "    </tr>\n",
       "    <tr>\n",
       "      <th>2</th>\n",
       "      <td>- calpine daily gas nomination 1 . doc</td>\n",
       "      <td>1</td>\n",
       "    </tr>\n",
       "    <tr>\n",
       "      <th>3</th>\n",
       "      <td>fyi - see note below - already done . stella -...</td>\n",
       "      <td>1</td>\n",
       "    </tr>\n",
       "    <tr>\n",
       "      <th>4</th>\n",
       "      <td>fyi . - - - - - - - - - - - - - - - - - - - - ...</td>\n",
       "      <td>1</td>\n",
       "    </tr>\n",
       "  </tbody>\n",
       "</table>\n",
       "</div>"
      ],
      "text/plain": [
       "                                                text  hamSpam\n",
       "0                                                NaN        1\n",
       "1  gary   production from the high island larger ...        1\n",
       "2             - calpine daily gas nomination 1 . doc        1\n",
       "3  fyi - see note below - already done . stella -...        1\n",
       "4  fyi . - - - - - - - - - - - - - - - - - - - - ...        1"
      ]
     },
     "execution_count": 248,
     "metadata": {},
     "output_type": "execute_result"
    }
   ],
   "source": [
    "#drop unused data \n",
    "emails.drop(['id', 'subject'], axis=\"columns\", inplace=True)\n",
    "emails.head()"
   ]
  },
  {
   "cell_type": "code",
   "execution_count": 249,
   "metadata": {},
   "outputs": [
    {
     "data": {
      "text/html": [
       "<div>\n",
       "<style scoped>\n",
       "    .dataframe tbody tr th:only-of-type {\n",
       "        vertical-align: middle;\n",
       "    }\n",
       "\n",
       "    .dataframe tbody tr th {\n",
       "        vertical-align: top;\n",
       "    }\n",
       "\n",
       "    .dataframe thead tr th {\n",
       "        text-align: left;\n",
       "    }\n",
       "\n",
       "    .dataframe thead tr:last-of-type th {\n",
       "        text-align: right;\n",
       "    }\n",
       "</style>\n",
       "<table border=\"1\" class=\"dataframe\">\n",
       "  <thead>\n",
       "    <tr>\n",
       "      <th></th>\n",
       "      <th colspan=\"4\" halign=\"left\">text</th>\n",
       "    </tr>\n",
       "    <tr>\n",
       "      <th></th>\n",
       "      <th>count</th>\n",
       "      <th>unique</th>\n",
       "      <th>top</th>\n",
       "      <th>freq</th>\n",
       "    </tr>\n",
       "    <tr>\n",
       "      <th>hamSpam</th>\n",
       "      <th></th>\n",
       "      <th></th>\n",
       "      <th></th>\n",
       "      <th></th>\n",
       "    </tr>\n",
       "  </thead>\n",
       "  <tbody>\n",
       "    <tr>\n",
       "      <th>0</th>\n",
       "      <td>1412</td>\n",
       "      <td>1353</td>\n",
       "      <td>click here to be removed</td>\n",
       "      <td>19</td>\n",
       "    </tr>\n",
       "    <tr>\n",
       "      <th>1</th>\n",
       "      <td>3663</td>\n",
       "      <td>3415</td>\n",
       "      <td>&gt; ricky a . archer fuel supply 700 louisiana  ...</td>\n",
       "      <td>21</td>\n",
       "    </tr>\n",
       "  </tbody>\n",
       "</table>\n",
       "</div>"
      ],
      "text/plain": [
       "         text                                                               \n",
       "        count unique                                                top freq\n",
       "hamSpam                                                                     \n",
       "0        1412   1353                          click here to be removed    19\n",
       "1        3663   3415  > ricky a . archer fuel supply 700 louisiana  ...   21"
      ]
     },
     "execution_count": 249,
     "metadata": {},
     "output_type": "execute_result"
    }
   ],
   "source": [
    "#1412 spam and 3663 ham emails\n",
    "emails.groupby(\"hamSpam\").describe()"
   ]
  },
  {
   "cell_type": "code",
   "execution_count": 250,
   "metadata": {},
   "outputs": [
    {
     "name": "stdout",
     "output_type": "stream",
     "text": [
      "518\n"
     ]
    }
   ],
   "source": [
    "#split data into training and test data\n",
    "from sklearn.model_selection import train_test_split\n",
    "X_train, X_test, y_train, y_test = train_test_split(emails.text, emails.hamSpam, test_size=0.1)\n",
    "print(len(y_test))"
   ]
  },
  {
   "cell_type": "code",
   "execution_count": 251,
   "metadata": {
    "scrolled": true
   },
   "outputs": [
    {
     "data": {
      "text/plain": [
       "array([[0, 0, 0, ..., 0, 0, 0],\n",
       "       [0, 0, 0, ..., 0, 0, 0],\n",
       "       [0, 1, 0, ..., 0, 0, 0]], dtype=int64)"
      ]
     },
     "execution_count": 251,
     "metadata": {},
     "output_type": "execute_result"
    }
   ],
   "source": [
    "#transform text into numeric values\n",
    "from sklearn.feature_extraction.text import CountVectorizer\n",
    "v = CountVectorizer()\n",
    "X_train_count = v.fit_transform(X_train.values.astype('str'))\n",
    "X_train_count.toarray()[:3]\n"
   ]
  },
  {
   "cell_type": "code",
   "execution_count": 252,
   "metadata": {},
   "outputs": [
    {
     "data": {
      "text/plain": [
       "MultinomialNB()"
      ]
     },
     "execution_count": 252,
     "metadata": {},
     "output_type": "execute_result"
    }
   ],
   "source": [
    "#create Multinomial Naive Bayes model, multinomial because we have discrete data (count of each word in text)\n",
    "from sklearn.naive_bayes import MultinomialNB\n",
    "model = MultinomialNB()\n",
    "model.fit(X_train_count, y_train)"
   ]
  },
  {
   "cell_type": "code",
   "execution_count": 253,
   "metadata": {},
   "outputs": [],
   "source": [
    "#accuracy\n",
    "#X_test_count = v.transform(X_test.values.astype('str'))\n",
    "#model.score(X_test_count, y_test)"
   ]
  },
  {
   "cell_type": "code",
   "execution_count": 254,
   "metadata": {},
   "outputs": [],
   "source": [
    "#function to get score\n",
    "def get_score(model, X_train, X_test, y_train, y_test):\n",
    "    v = CountVectorizer()\n",
    "    X_train_count = v.fit_transform(X_train.values.astype('str'))\n",
    "    X_test_count = v.transform(X_test.values.astype('str'))\n",
    "    model.fit(X_train_count, y_train)\n",
    "    return model.score(X_test_count, y_test)"
   ]
  },
  {
   "cell_type": "code",
   "execution_count": 255,
   "metadata": {},
   "outputs": [],
   "source": [
    "# K-Folds cross-validator\n",
    "#from sklearn.model_selection import KFold\n",
    "#kf = KFold(n_splits=10)"
   ]
  },
  {
   "cell_type": "code",
   "execution_count": 256,
   "metadata": {
    "scrolled": true
   },
   "outputs": [
    {
     "data": {
      "text/plain": [
       "'\\nscores = []\\nfor train_index, test_index in kf.split(emails.text):\\n    X_train, X_test, y_train, y_test = emails.text[train_index], emails.text[test_index],                                         emails.hamSpam[train_index], emails.hamSpam[test_index]\\n    scores.append(get_score(model, X_train, X_test, y_train, y_test))\\n'"
      ]
     },
     "execution_count": 256,
     "metadata": {},
     "output_type": "execute_result"
    }
   ],
   "source": [
    "#create 10 folds and their score precision recall and fscore\n",
    "\"\"\"\n",
    "scores = []\n",
    "for train_index, test_index in kf.split(emails.text):\n",
    "    X_train, X_test, y_train, y_test = emails.text[train_index], emails.text[test_index], \\\n",
    "                                        emails.hamSpam[train_index], emails.hamSpam[test_index]\n",
    "    scores.append(get_score(model, X_train, X_test, y_train, y_test))\n",
    "\"\"\""
   ]
  },
  {
   "cell_type": "code",
   "execution_count": 257,
   "metadata": {},
   "outputs": [
    {
     "name": "stdout",
     "output_type": "stream",
     "text": [
      "Precision: \n",
      " [0.99384615 0.98784195 0.9875     0.99082569 0.9787234  0.99695122\n",
      " 0.98784195 0.98484848 0.99386503 0.98466258]\n",
      "Recall: \n",
      " [0.97878788 0.98484848 0.95757576 0.98480243 0.9787234  0.99392097\n",
      " 0.98784195 0.98784195 0.98480243 0.97568389]\n",
      "F1: \n",
      " [0.98625954 0.98634294 0.97230769 0.98780488 0.9787234  0.99543379\n",
      " 0.98784195 0.98634294 0.98931298 0.98015267]\n"
     ]
    }
   ],
   "source": [
    "#Calculate precision_recall_fscore for test data (does same as the for loop above)\n",
    "from sklearn.model_selection import cross_val_score\n",
    "precision = cross_val_score(model, X_train_count, y_train, cv=10, scoring='precision')\n",
    "recall = cross_val_score(model, X_train_count, y_train, cv=10, scoring='recall')\n",
    "f1 = cross_val_score(model, X_train_count, y_train, cv=10, scoring='f1')\n",
    "print(\"Precision: \\n\", precision)\n",
    "print(\"Recall: \\n\", recall)\n",
    "print(\"F1: \\n\", f1)"
   ]
  },
  {
   "cell_type": "code",
   "execution_count": 258,
   "metadata": {},
   "outputs": [
    {
     "data": {
      "text/plain": [
       "(0.9806951272754882, 0.9897688811526932, 0.9851140870164952, None)"
      ]
     },
     "execution_count": 258,
     "metadata": {},
     "output_type": "execute_result"
    }
   ],
   "source": [
    "#Make predictions and calculate precision_recall_fscore for predictions\n",
    "from sklearn.metrics import precision_recall_fscore_support\n",
    "X_test_count = v.transform(X_test.values.astype('str'))\n",
    "Y_pred = model.predict(X_test_count)\n",
    "prf = precision_recall_fscore_support(Y_pred, y_test, average='macro')\n",
    "prf"
   ]
  },
  {
   "cell_type": "code",
   "execution_count": null,
   "metadata": {},
   "outputs": [],
   "source": []
  }
 ],
 "metadata": {
  "kernelspec": {
   "display_name": "Python 3",
   "language": "python",
   "name": "python3"
  },
  "language_info": {
   "codemirror_mode": {
    "name": "ipython",
    "version": 3
   },
   "file_extension": ".py",
   "mimetype": "text/x-python",
   "name": "python",
   "nbconvert_exporter": "python",
   "pygments_lexer": "ipython3",
   "version": "3.8.3"
  }
 },
 "nbformat": 4,
 "nbformat_minor": 4
}
